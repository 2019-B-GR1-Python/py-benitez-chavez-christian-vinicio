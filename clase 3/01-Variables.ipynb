{
 "cells": [
  {
   "cell_type": "code",
   "execution_count": 1,
   "metadata": {},
   "outputs": [
    {
     "name": "stdout",
     "output_type": "stream",
     "text": [
      "Hola mundo\n"
     ]
    }
   ],
   "source": [
    "print('Hola mundo')"
   ]
  },
  {
   "cell_type": "code",
   "execution_count": null,
   "metadata": {},
   "outputs": [],
   "source": [
    "\"\"\"\n",
    "Comentarios de múltiples líneas\n",
    "\"\"\"\n",
    "\n",
    "#Comentarios de una lína"
   ]
  },
  {
   "cell_type": "code",
   "execution_count": 1,
   "metadata": {},
   "outputs": [
    {
     "name": "stdout",
     "output_type": "stream",
     "text": [
      "<class 'int'>\n",
      "<class 'float'>\n",
      "<class 'str'>\n",
      "<class 'str'>\n",
      "<class 'bool'>\n",
      "<class 'NoneType'>\n"
     ]
    }
   ],
   "source": [
    "#Variables primitivas\n",
    "entero = 3\n",
    "decimal = 1.1\n",
    "nombre = \"Christian\"\n",
    "apellido = \"Benítez\"\n",
    "casado = False\n",
    "hijos = None\n",
    "\n",
    "print(type(entero))  # int\n",
    "print(type(decimal))  # float\n",
    "print(type(nombre))  # str\n",
    "print(type(apellido))  # str\n",
    "print(type(casado))  # boolean\n",
    "print(type(hijos))  # NoneType\n"
   ]
  },
  {
   "cell_type": "code",
   "execution_count": 6,
   "metadata": {},
   "outputs": [
    {
     "name": "stdout",
     "output_type": "stream",
     "text": [
      "Sin ningún valor:\n",
      "Falsy \n",
      "\n",
      "Valor String:\n",
      "Trusty \n",
      "\n",
      "Valor numérico 0:\n",
      "Falsy \n",
      "\n",
      "Valor numérico negativo:\n",
      "Trusty \n",
      "\n",
      "Valor numérico positivo:\n",
      "Trusty \n",
      "\n",
      "Valor decimal 0:\n",
      "Falsy \n",
      "\n",
      "Valor decimal diferente de 0:\n",
      "Trusty \n",
      "\n",
      "Valor None:\n",
      "Falsy \n",
      "\n"
     ]
    }
   ],
   "source": [
    "#Condicional\n",
    "#Trusty - Falsy\n",
    "\n",
    "print(\"Sin ningún valor:\")\n",
    "if(\"\"):  # Falsy\n",
    "    print(\"Trusty \\n\")\n",
    "else:\n",
    "    print(\"Falsy \\n\")\n",
    "\n",
    "print(\"Valor String:\")\n",
    "if(\"a\"):  # Trusty\n",
    "    print(\"Trusty \\n\")\n",
    "else:\n",
    "    print(\"Falsy \\n\")\n",
    "\n",
    "print(\"Valor numérico 0:\")\n",
    "if(0):  # Falsy\n",
    "    print(\"Trusty \\n\")\n",
    "else:\n",
    "    print(\"Falsy \\n\")\n",
    "\n",
    "print(\"Valor numérico negativo:\")\n",
    "if(-1):  # Trusty\n",
    "    print(\"Trusty \\n\")\n",
    "else:\n",
    "    print(\"Falsy \\n\")\n",
    "\n",
    "print(\"Valor numérico positivo:\")\n",
    "if(1):  # Trusty\n",
    "    print(\"Trusty \\n\")\n",
    "else:\n",
    "    print(\"Falsy \\n\")\n",
    "\n",
    "print(\"Valor decimal 0:\")\n",
    "if(0.00):  # Falsy\n",
    "    print(\"Trusty \\n\")\n",
    "else:\n",
    "    print(\"Falsy \\n\")\n",
    "\n",
    "print(\"Valor decimal diferente de 0:\")\n",
    "if(0.01):  # Trusty\n",
    "    print(\"Trusty \\n\")\n",
    "else:\n",
    "    print(\"Falsy \\n\")    \n",
    "\n",
    "print(\"Valor None:\")\n",
    "if(None):  # Falsy\n",
    "    print(\"Trusty \\n\")\n",
    "else:\n",
    "    print(\"Falsy \\n\")    "
   ]
  },
  {
   "cell_type": "code",
   "execution_count": 7,
   "metadata": {},
   "outputs": [
    {
     "name": "stdout",
     "output_type": "stream",
     "text": [
      "<class 'tuple'>\n",
      "<class 'list'>\n",
      "<class 'dict'>\n"
     ]
    }
   ],
   "source": [
    "#Tipos de datos\n",
    "#Listas - Tuplas - Diccionario\n",
    "\n",
    "tuplas = ()\n",
    "listas = []\n",
    "diccionarios = {}\n",
    "print(type(tuplas))  # tuple\n",
    "print(type(listas))  # list\n",
    "print(type(diccionarios))  #dict"
   ]
  },
  {
   "cell_type": "code",
   "execution_count": 8,
   "metadata": {},
   "outputs": [
    {
     "name": "stdout",
     "output_type": "stream",
     "text": [
      "Tupla vacia:\n",
      "Falsy \n",
      "\n",
      "Tupla llena:\n",
      "Truty \n",
      "\n",
      "Lista vacia:\n",
      "Falsy \n",
      "\n",
      "Lista llena:\n",
      "Truty \n",
      "\n",
      "Diccionario vacío:\n",
      "Falsy  \n",
      "\n",
      "Diccionario lleno:\n",
      "Truty \n",
      "\n"
     ]
    }
   ],
   "source": [
    "#Condicionales\n",
    "#Listas - Tuplas -Diccionarios\n",
    "print(\"Tupla vacia:\")\n",
    "if(()):  # Falsy\n",
    "    print(\"Truty \\n\")\n",
    "else:\n",
    "    print(\"Falsy \\n\")\n",
    "\n",
    "print(\"Tupla llena:\")\n",
    "if((1, 2)):  # Truty\n",
    "    print(\"Truty \\n\")\n",
    "else:\n",
    "    print(\"Falsy \\n\")\n",
    "\n",
    "print(\"Lista vacia:\")\n",
    "if([]):  # Falsy\n",
    "    print(\"Truty \\n\")\n",
    "else:\n",
    "    print(\"Falsy \\n\")\n",
    "\n",
    "print(\"Lista llena:\")\n",
    "if([\"a\", \"b\"]):  # Truty\n",
    "    print(\"Truty \\n\")\n",
    "else:\n",
    "    print(\"Falsy \\n\")\n",
    "\n",
    "print(\"Diccionario vacío:\")\n",
    "if({}):  # Falsy\n",
    "    print(\"Truty \\n\")\n",
    "else:\n",
    "    print(\"Falsy  \\n\")\n",
    "\n",
    "print(\"Diccionario lleno:\")\n",
    "if({nombre: \"Christian\"}):  # Truty\n",
    "    print(\"Truty \\n\")\n",
    "else:\n",
    "    print(\"Falsy \\n\")"
   ]
  },
  {
   "cell_type": "code",
   "execution_count": 16,
   "metadata": {},
   "outputs": [
    {
     "data": {
      "text/plain": [
       "[3, 4, 5]"
      ]
     },
     "execution_count": 16,
     "metadata": {},
     "output_type": "execute_result"
    }
   ],
   "source": [
    "#Filtrar arreglos\n",
    "arreglo = [1, 2, 3, 4, 5, 6, 7, 8, 9, 10]\n",
    "\n",
    "arreglo[2:5]  #Filtar desde la posición 2 hasta la 5 sin incluir([[)"
   ]
  },
  {
   "cell_type": "code",
   "execution_count": 17,
   "metadata": {},
   "outputs": [
    {
     "data": {
      "text/plain": [
       "[3, 4, 5, 6, 7, 8, 9, 10]"
      ]
     },
     "execution_count": 17,
     "metadata": {},
     "output_type": "execute_result"
    }
   ],
   "source": [
    "arreglo[2:]  #Filtrar desde la posición 2 hasta la última"
   ]
  },
  {
   "cell_type": "code",
   "execution_count": 19,
   "metadata": {},
   "outputs": [
    {
     "data": {
      "text/plain": [
       "[1, 2, 3, 4, 5, 6, 7]"
      ]
     },
     "execution_count": 19,
     "metadata": {},
     "output_type": "execute_result"
    }
   ],
   "source": [
    "arreglo[:7]  #Filtrar desde el inicio hasta la posición 7 sin incluir"
   ]
  },
  {
   "cell_type": "code",
   "execution_count": 21,
   "metadata": {},
   "outputs": [
    {
     "data": {
      "text/plain": [
       "10"
      ]
     },
     "execution_count": 21,
     "metadata": {},
     "output_type": "execute_result"
    }
   ],
   "source": [
    "arreglo[-1]  #Filtrar el último valor"
   ]
  },
  {
   "cell_type": "code",
   "execution_count": 22,
   "metadata": {},
   "outputs": [
    {
     "data": {
      "text/plain": [
       "[3, 4, 5, 6, 7, 8, 9]"
      ]
     },
     "execution_count": 22,
     "metadata": {},
     "output_type": "execute_result"
    }
   ],
   "source": [
    "arreglo[2:-1]  #Filtrar desde la posición 2 hasta la última sin incluir"
   ]
  },
  {
   "cell_type": "code",
   "execution_count": 25,
   "metadata": {},
   "outputs": [
    {
     "data": {
      "text/plain": [
       "[3, 4, 5, 6, 7, 8, 9]"
      ]
     },
     "execution_count": 25,
     "metadata": {},
     "output_type": "execute_result"
    }
   ],
   "source": [
    "arreglo[-8:-1]  #Filtrar desde la posición 8 (de derecha a izquierda) hasta la última posición sin incluir"
   ]
  },
  {
   "cell_type": "code",
   "execution_count": 28,
   "metadata": {},
   "outputs": [
    {
     "data": {
      "text/plain": [
       "[2, 3, 4, 5, 6, 7, 8, 9, 10]"
      ]
     },
     "execution_count": 28,
     "metadata": {},
     "output_type": "execute_result"
    }
   ],
   "source": [
    "arreglo[-9:]  #Filtrar desde la posición 9 (de derecha a izquierda) hasta el último"
   ]
  },
  {
   "cell_type": "raw",
   "metadata": {},
   "source": []
  },
  {
   "cell_type": "code",
   "execution_count": 30,
   "metadata": {},
   "outputs": [
    {
     "data": {
      "text/plain": [
       "[1, 2, 3, 4, 5, 6, 7, 8]"
      ]
     },
     "execution_count": 30,
     "metadata": {},
     "output_type": "execute_result"
    }
   ],
   "source": [
    "arreglo[:-2]  #Filtrar desde el inicio hasta la posicion 2 (de derecha a izquierda)"
   ]
  },
  {
   "cell_type": "code",
   "execution_count": 32,
   "metadata": {},
   "outputs": [
    {
     "data": {
      "text/plain": [
       "[1, 2, 3, 4, 5, 6, 7, 8, 9, 10]"
      ]
     },
     "execution_count": 32,
     "metadata": {},
     "output_type": "execute_result"
    }
   ],
   "source": [
    "arreglo[:]  #Filtrar desde el inicio hasta el final"
   ]
  },
  {
   "cell_type": "code",
   "execution_count": 33,
   "metadata": {},
   "outputs": [
    {
     "data": {
      "text/plain": [
       "10"
      ]
     },
     "execution_count": 33,
     "metadata": {},
     "output_type": "execute_result"
    }
   ],
   "source": [
    "#Longitud arreglo\n",
    "len(arreglo)"
   ]
  },
  {
   "cell_type": "code",
   "execution_count": 35,
   "metadata": {},
   "outputs": [
    {
     "data": {
      "text/plain": [
       "[1, 2, 3, 4, 5, 6, 7, 8, 9, 10, 11, 11]"
      ]
     },
     "execution_count": 35,
     "metadata": {},
     "output_type": "execute_result"
    }
   ],
   "source": [
    "#Agregar valores en arreglo\n",
    "arreglo.append(11)\n",
    "arreglo"
   ]
  },
  {
   "cell_type": "code",
   "execution_count": 37,
   "metadata": {},
   "outputs": [
    {
     "data": {
      "text/plain": [
       "[1, 2, 3, 4, 5, 6, 7, 8, 9, 10, 11]"
      ]
     },
     "execution_count": 37,
     "metadata": {},
     "output_type": "execute_result"
    }
   ],
   "source": [
    "#Sacar el último valor de un arreglo\n",
    "arreglo.pop()\n",
    "arreglo"
   ]
  },
  {
   "cell_type": "code",
   "execution_count": 38,
   "metadata": {},
   "outputs": [
    {
     "data": {
      "text/plain": [
       "[1, 1.1, 2, 3, 4, 5, 6, 7, 8, 9, 10, 11]"
      ]
     },
     "execution_count": 38,
     "metadata": {},
     "output_type": "execute_result"
    }
   ],
   "source": [
    "#Insertar valores en una posición\n",
    "arreglo.insert(1, 1.1)\n",
    "arreglo"
   ]
  },
  {
   "cell_type": "code",
   "execution_count": 39,
   "metadata": {
    "scrolled": true
   },
   "outputs": [
    {
     "name": "stdout",
     "output_type": "stream",
     "text": [
      "1\n",
      "1.1\n",
      "2\n",
      "3\n",
      "4\n",
      "5\n",
      "6\n",
      "7\n",
      "8\n",
      "9\n",
      "10\n",
      "11\n"
     ]
    }
   ],
   "source": [
    "#Recorrer areglos\n",
    "for numero in arreglo:\n",
    "    print (numero)"
   ]
  },
  {
   "cell_type": "code",
   "execution_count": 46,
   "metadata": {},
   "outputs": [
    {
     "data": {
      "text/plain": [
       "{'nombre': 'Christian',\n",
       " 'apellido': 'Benitez',\n",
       " 'hijos': None,\n",
       " 'casado': False,\n",
       " 'edad': 21,\n",
       " 'sueldo': 1.5,\n",
       " 'mascota': [{'nombre': 'Bratt'}]}"
      ]
     },
     "execution_count": 46,
     "metadata": {},
     "output_type": "execute_result"
    }
   ],
   "source": [
    "#Crear un diccionario\n",
    "christian = {\n",
    "    'nombre': \"Christian\",\n",
    "    'apellido': \"Benitez\",\n",
    "    'hijos': None,\n",
    "    'casado': False,\n",
    "    'edad': 21,\n",
    "    'sueldo': 1.50,\n",
    "    'mascota': [{'nombre': \"Bratt\"}]\n",
    "}\n",
    "\n",
    "christian"
   ]
  }
 ],
 "metadata": {
  "kernelspec": {
   "display_name": "Python 3",
   "language": "python",
   "name": "python3"
  },
  "language_info": {
   "codemirror_mode": {
    "name": "ipython",
    "version": 3
   },
   "file_extension": ".py",
   "mimetype": "text/x-python",
   "name": "python",
   "nbconvert_exporter": "python",
   "pygments_lexer": "ipython3",
   "version": "3.7.0"
  }
 },
 "nbformat": 4,
 "nbformat_minor": 2
}
