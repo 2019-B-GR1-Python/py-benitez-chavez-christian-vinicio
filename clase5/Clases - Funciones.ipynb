{
 "cells": [
  {
   "cell_type": "code",
   "execution_count": 5,
   "metadata": {},
   "outputs": [
    {
     "data": {
      "text/plain": [
       "9"
      ]
     },
     "execution_count": 5,
     "metadata": {},
     "output_type": "execute_result"
    }
   ],
   "source": [
    "#funciones lambda\n",
    "def elevar_al_cuadrado(numero):\n",
    "    return numero*numero\n",
    "\n",
    "elevar_al_cuadrado(3)"
   ]
  },
  {
   "cell_type": "code",
   "execution_count": 2,
   "metadata": {},
   "outputs": [
    {
     "data": {
      "text/plain": [
       "4"
      ]
     },
     "execution_count": 2,
     "metadata": {},
     "output_type": "execute_result"
    }
   ],
   "source": [
    "elevar_al_cuadrado_lambda = lambda numero: numero*numero\n",
    "elevar_al_cuadrado_lambda(2)"
   ]
  },
  {
   "cell_type": "code",
   "execution_count": 7,
   "metadata": {},
   "outputs": [
    {
     "name": "stdout",
     "output_type": "stream",
     "text": [
      "Mensaje: Hola\n"
     ]
    }
   ],
   "source": [
    "#LLega un mensaje : lo que se devuelve\n",
    "imprimir_mensaje = lambda mensaje : print(f\"Mensaje: {mensaje}\")\n",
    "imprimir_mensaje(\"Hola\")"
   ]
  },
  {
   "cell_type": "code",
   "execution_count": 9,
   "metadata": {},
   "outputs": [
    {
     "data": {
      "text/plain": [
       "7"
      ]
     },
     "execution_count": 9,
     "metadata": {},
     "output_type": "execute_result"
    }
   ],
   "source": [
    "suma_dos_numeros = lambda n1, n2 : n1 + n2\n",
    "suma_dos_numeros(2,5)"
   ]
  },
  {
   "cell_type": "code",
   "execution_count": 11,
   "metadata": {},
   "outputs": [
    {
     "name": "stdout",
     "output_type": "stream",
     "text": [
      "<__main__.Nada object at 0x000001DC2796B048>\n",
      "<class '__main__.Nada'>\n"
     ]
    }
   ],
   "source": [
    "#Python orientado a objetos\n",
    "#Clases\n",
    "#Clase que no  tenga nada\n",
    "class Nada:\n",
    "    pass\n",
    "\n",
    "#instanciar\n",
    "una_nada = Nada()\n",
    "print(una_nada)\n",
    "print(type(una_nada))"
   ]
  },
  {
   "cell_type": "code",
   "execution_count": 28,
   "metadata": {},
   "outputs": [
    {
     "name": "stdout",
     "output_type": "stream",
     "text": [
      "Empezó el constructor\n",
      "None\n",
      "Azul\n",
      "1\n",
      "Color:Azul\n",
      "Chasis: 1\n",
      "<bound method Auto.numero_chasis_impuesto of <__main__.Auto object at 0x000001DC27A23B00>>\n"
     ]
    }
   ],
   "source": [
    "#Clase con variables\n",
    "class Auto:\n",
    "    color = None  # ó \"\"\n",
    "    #definir propiedad privada\n",
    "    __numero_chasis = 1\n",
    "    \n",
    "    \n",
    "    #definir constructores\n",
    "    #funcione dentro de la calse\n",
    "    #constructore = __init__\n",
    "    def __init__(self, color):  # self = this\n",
    "        print(\"Empezó el constructor\")\n",
    "        #acceder a las propiedades \n",
    "        print(self.color)\n",
    "        self.color = color\n",
    "    \n",
    "    \n",
    "    #funcion tu string -> override\n",
    "    def __str__(self):\n",
    "        return f\"Color:{self.color}\\n\" + f\"Chasis: {self.__numero_chasis}\"\n",
    "    \n",
    "    \n",
    "    #funciones publicas\n",
    "    def numero_chasis_impuesto(self):\n",
    "        return self.__calcular_impuesto\n",
    "    \n",
    "    \n",
    "    #funciones privadas\n",
    "    def __calcular_impuesto():\n",
    "        return 14*self.__numero_chasis\n",
    "    \n",
    "    \n",
    "    \n",
    "\n",
    "nuevo_auto = Auto(\"Azul\")\n",
    "print(nuevo_auto.color)\n",
    "#print(nuevo_auto.__numero_chasis)\n",
    "#Acceder a atributos private\n",
    "print(nuevo_auto._Auto__numero_chasis)\n",
    "print(nuevo_auto)\n",
    "print(nuevo_auto.numero_chasis_impuesto)"
   ]
  },
  {
   "cell_type": "code",
   "execution_count": 33,
   "metadata": {},
   "outputs": [
    {
     "name": "stdout",
     "output_type": "stream",
     "text": [
      "Inicializando BMW\n",
      "Empezó el constructor\n",
      "None\n",
      "Color:Rojo\n",
      "Chasis: 1\n"
     ]
    }
   ],
   "source": [
    "#Herencia\n",
    "class BMW(Auto):\n",
    "    #definir constructor y llamar a la fucnion super\n",
    "    #Pedir lo mínimo que necesita el padre\n",
    "    def __init__(self, color = \"Blanco\"):\n",
    "        print(\"Inicializando BMW\")\n",
    "        super().__init__(color)\n",
    "\n",
    "        \n",
    "carrito = BMW(\"Rojo\")\n",
    "print(carrito)"
   ]
  },
  {
   "cell_type": "code",
   "execution_count": 52,
   "metadata": {},
   "outputs": [
    {
     "data": {
      "text/plain": [
       "<function __main__.calculadora.<locals>.opcion_seleccionada()>"
      ]
     },
     "execution_count": 52,
     "metadata": {},
     "output_type": "execute_result"
    }
   ],
   "source": [
    "#Funciones especiales\n",
    "#Funciones dentro de funciones\n",
    "def calculadora(num_uno, num_dos, operacion =\"suma\"):\n",
    "    def suma():\n",
    "        return num_uno + num_dos\n",
    "    def resta():\n",
    "        return num_uno - num_dos\n",
    "    def multiplicacion():\n",
    "        return num_uno * num_dos\n",
    "    def division():\n",
    "        return num_uno / num_dos\n",
    "    \n",
    "    \n",
    "    def opcion_seleccionada():\n",
    "        #switch con diccionarios\n",
    "        opciones = {\n",
    "            'suma': suma(),\n",
    "            'resta': resta(),\n",
    "            'multiplicacion': multiplicacion(),\n",
    "            'division': division(),\n",
    "        }\n",
    "        \n",
    "        '''\n",
    "        return = {\n",
    "            'suma': suma(),\n",
    "            'resta': resta(),\n",
    "            'multiplicacion': multiplicacion(),\n",
    "            'division': division(),\n",
    "        }[operacion]\n",
    "        '''\n",
    "    \n",
    "        #opciones[\"suma\"]\n",
    "        #opciones[\"resta\"]\n",
    "        #opciones[\"multiplicacion\"]\n",
    "        #opciones[\"division\"]\n",
    "        \n",
    "        return opciones[operacion]\n",
    "    return opcion_seleccionada\n",
    "\n",
    "\n",
    "\n",
    "calculadora(1,2,\"resta\")"
   ]
  },
  {
   "cell_type": "code",
   "execution_count": 53,
   "metadata": {},
   "outputs": [
    {
     "name": "stdout",
     "output_type": "stream",
     "text": [
      "Dime tu edad21\n"
     ]
    },
    {
     "data": {
      "text/plain": [
       "'21'"
      ]
     },
     "execution_count": 53,
     "metadata": {},
     "output_type": "execute_result"
    }
   ],
   "source": [
    "#Ingresar texto por teclado\n",
    "#Input: Devuelve strings\n",
    "input(\"Dime tu edad\")"
   ]
  },
  {
   "cell_type": "code",
   "execution_count": null,
   "metadata": {},
   "outputs": [],
   "source": [
    "#Proyecto en python en la terminal\n",
    "#Sábado\n",
    "#CRUD de equipos y jugadores\n",
    "#4 atributos\n",
    "#Guardar en un archivo"
   ]
  }
 ],
 "metadata": {
  "kernelspec": {
   "display_name": "Python 3",
   "language": "python",
   "name": "python3"
  },
  "language_info": {
   "codemirror_mode": {
    "name": "ipython",
    "version": 3
   },
   "file_extension": ".py",
   "mimetype": "text/x-python",
   "name": "python",
   "nbconvert_exporter": "python",
   "pygments_lexer": "ipython3",
   "version": "3.7.0"
  }
 },
 "nbformat": 4,
 "nbformat_minor": 2
}
