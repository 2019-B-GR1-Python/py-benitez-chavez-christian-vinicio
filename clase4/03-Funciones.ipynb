{
 "cells": [
  {
   "cell_type": "code",
   "execution_count": 4,
   "metadata": {},
   "outputs": [
    {
     "name": "stdout",
     "output_type": "stream",
     "text": [
      "Hola Christian\n",
      "<class 'NoneType'>\n"
     ]
    }
   ],
   "source": [
    "#Funciones\n",
    "#Dos tipos: Retorna algo y no retorna nada\n",
    "#Dos palabras en python se separan por un \"_\"\n",
    "\n",
    "def hola_mundo():\n",
    "    print(\"Hola Christian\")\n",
    "    \n",
    "print(type(hola_mundo()))"
   ]
  },
  {
   "cell_type": "code",
   "execution_count": 6,
   "metadata": {},
   "outputs": [
    {
     "name": "stdout",
     "output_type": "stream",
     "text": [
      "suma 3\n"
     ]
    }
   ],
   "source": [
    "#Argumentos requeridos\n",
    "def sumar_dos_numeros(num_uno, num_dos): #\n",
    "    return num_uno + num_dos\n",
    "\n",
    "suma = sumar_dos_numeros(1,2)\n",
    "#template strings\n",
    "print(f\"suma {suma}\")"
   ]
  },
  {
   "cell_type": "code",
   "execution_count": 1,
   "metadata": {},
   "outputs": [
    {
     "name": "stdout",
     "output_type": "stream",
     "text": [
      "EPN\n",
      "ESPE\n"
     ]
    }
   ],
   "source": [
    "#Argumentos opcionales\n",
    "def imprimir_universidad(nombre = 'EPN'):\n",
    "    print(f\"{nombre}\")\n",
    "\n",
    "imprimir_universidad()\n",
    "imprimir_universidad (\"ESPE\")"
   ]
  },
  {
   "cell_type": "code",
   "execution_count": 3,
   "metadata": {},
   "outputs": [
    {
     "name": "stdout",
     "output_type": "stream",
     "text": [
      "Color: rojo\n",
      "Placa: PBA-123\n",
      "Caballos de fuerza: 5000\n",
      "Año: 2019\n",
      "Color: Cafe\n",
      "Placa: PBA-123\n",
      "Caballos de fuerza: 5000\n",
      "Año: 2019\n"
     ]
    }
   ],
   "source": [
    "#Parametros por posicion.\n",
    "#color, placa, hp\n",
    "def imprimir_carro(color, placa, hp, anio = '2018'):\n",
    "    print(f\"Color: {color}\")\n",
    "    print(f\"Placa: {placa}\")\n",
    "    print(f\"Caballos de fuerza: {hp}\")\n",
    "    print(f\"Año: {anio}\")\n",
    "\n",
    "imprimir_carro(\"rojo\", \"PBA-123\", 5000, 2019)\n",
    "\n",
    "#Parametros nombrados - Named parameters\n",
    "#anio\n",
    "imprimir_carro(anio = 2019,\n",
    "               color = \"rojo\",\n",
    "               placa = \"PBA-123\",\n",
    "               hp = 5000)\n",
    "\n",
    "\n",
    "imprimir_carro (\"Cafe\", \"PBA-123\", anio = 2019, hp = 5000)"
   ]
  },
  {
   "cell_type": "code",
   "execution_count": 4,
   "metadata": {},
   "outputs": [
    {
     "data": {
      "text/plain": [
       "10"
      ]
     },
     "execution_count": 4,
     "metadata": {},
     "output_type": "execute_result"
    }
   ],
   "source": [
    "#Parametros infinitos\n",
    "#Parametros infinitos al final\n",
    "\n",
    "def sumar_numeros(primer_numero, \n",
    "                 *numeros):\n",
    "    longitud = len(numeros)\n",
    "    if (longitud == 0):\n",
    "        return primer_numero\n",
    "    else:\n",
    "        suma = primer_numero\n",
    "        for numero in numeros:\n",
    "            suma = suma + numero\n",
    "        return suma\n",
    "    \n",
    "    print(type(primer_numero))\n",
    "    print(type(numeros))\n",
    "\n",
    "sumar_numeros (1,2,3,4)"
   ]
  },
  {
   "cell_type": "code",
   "execution_count": 6,
   "metadata": {},
   "outputs": [],
   "source": [
    "#Reglas:\n",
    "    #Regla1: Siempre mandar todos los parametros requeridos.\n",
    "    #Regla2: Primero van los parametros requeridos, despues los parametros opcionales.\n",
    "    #Regla3: Si ya se envía un parámetro nombrado, los parámetros que falten de enviarse deben de ser nombrados."
   ]
  },
  {
   "cell_type": "code",
   "execution_count": 5,
   "metadata": {},
   "outputs": [
    {
     "name": "stdout",
     "output_type": "stream",
     "text": [
      "<class 'dict'>\n",
      "{'tiempo_espera': 10, 'rendimiento': 'bueno', 'horas': 25}\n"
     ]
    }
   ],
   "source": [
    "#Key words arguments (kwargs)\n",
    "#Parametros que no estan definidos en la funcion\n",
    "def imprimir_configuracion(nombre, valor=10,  **key_word_arguments):\n",
    "    print(type(key_word_arguments))\n",
    "    print(key_word_arguments)\n",
    "\n",
    "imprimir_configuracion(nombre = \"config1\", valor = 20, tiempo_espera = 10, rendimiento = \"bueno\", horas = 25)"
   ]
  }
 ],
 "metadata": {
  "kernelspec": {
   "display_name": "Python 3",
   "language": "python",
   "name": "python3"
  },
  "language_info": {
   "codemirror_mode": {
    "name": "ipython",
    "version": 3
   },
   "file_extension": ".py",
   "mimetype": "text/x-python",
   "name": "python",
   "nbconvert_exporter": "python",
   "pygments_lexer": "ipython3",
   "version": "3.7.0"
  }
 },
 "nbformat": 4,
 "nbformat_minor": 2
}
