{
 "cells": [
  {
   "cell_type": "code",
   "execution_count": 3,
   "metadata": {},
   "outputs": [
    {
     "name": "stdout",
     "output_type": "stream",
     "text": [
      "L1: Lorem Ipsum es simplemente el texto de relleno de las imprentas y archivos de texto. \n",
      "\n",
      "<class 'str'>\n",
      "['Lorem Ipsum ha sido el texto de relleno estÃ¡ndar de las industrias desde el aÃ±o 1500, \\n', 'cuando un impresor (N. del T. persona que se dedica a la imprenta) desconocido usÃ³ \\n', 'una galerÃ\\xada de textos y los mezclÃ³ de tal manera que logrÃ³ hacer un libro de textos especimen. \\n', 'No sÃ³lo sobreviviÃ³ 500 aÃ±os, sino que tambien ingresÃ³ como texto de relleno en documentos \\n', 'electrÃ³nicos, quedando esencialmente igual al original. Fue popularizado en los 60s con \\n', 'la creaciÃ³n de las hojas \"Letraset\", las cuales contenian pasajes de Lorem Ipsum, y mÃ¡s \\n', 'recientemente con software de autoediciÃ³n, como por ejemplo Aldus PageMaker, el cual \\n', 'incluye versiones de Lorem Ipsum.\\n', 'Buenos dias\\n', 'ABC\\n', 'DEF\\n']\n",
      "<class 'list'>\n",
      "Lorem Ipsum ha sido el texto de relleno estÃ¡ndar de las industrias desde el aÃ±o 1500, \n",
      "\n",
      "cuando un impresor (N. del T. persona que se dedica a la imprenta) desconocido usÃ³ \n",
      "\n",
      "una galerÃ­a de textos y los mezclÃ³ de tal manera que logrÃ³ hacer un libro de textos especimen. \n",
      "\n",
      "No sÃ³lo sobreviviÃ³ 500 aÃ±os, sino que tambien ingresÃ³ como texto de relleno en documentos \n",
      "\n",
      "electrÃ³nicos, quedando esencialmente igual al original. Fue popularizado en los 60s con \n",
      "\n",
      "la creaciÃ³n de las hojas \"Letraset\", las cuales contenian pasajes de Lorem Ipsum, y mÃ¡s \n",
      "\n",
      "recientemente con software de autoediciÃ³n, como por ejemplo Aldus PageMaker, el cual \n",
      "\n",
      "incluye versiones de Lorem Ipsum.\n",
      "\n",
      "Buenos dias\n",
      "\n",
      "ABC\n",
      "\n",
      "DEF\n",
      "\n"
     ]
    }
   ],
   "source": [
    "#Archivos\n",
    "\n",
    "try:\n",
    "    path = \"./frases.txt\"\n",
    "    archivo_abierto = open(path)\n",
    "    #Una sola linea\n",
    "    linea_uno = archivo_abierto.readline()\n",
    "    print (f\"L1: {linea_uno}\")\n",
    "    print(type(linea_uno))\n",
    "    \n",
    "    #Varias lineas \n",
    "    contenido = archivo_abierto.readlines()\n",
    "    print(contenido)\n",
    "    print(type(contenido))\n",
    "    \n",
    "    for linea in contenido:\n",
    "        print(linea)\n",
    "    \n",
    "    archivo_abierto.close()\n",
    "      \n",
    "except Exception as error:\n",
    "    print (\"Error\")"
   ]
  },
  {
   "cell_type": "code",
   "execution_count": 2,
   "metadata": {},
   "outputs": [],
   "source": [
    "#Escribir archivos\n",
    "#Añadir lineas y sobreescribir archivos\n",
    "try:\n",
    "    path = './frases.txt'\n",
    "    archivo_escritura_abierto = open(path, mode=\"a\")\n",
    "    #a=>append\n",
    "    #w=>write(sobreescribe)\n",
    "    \n",
    "    #Escribir una linea \n",
    "    archivo_escritura_abierto.write(\"Buenos dias\\n\")\n",
    "    #Escribir varias lineas\n",
    "    archivo_escritura_abierto.writelines([\"ABC\\n\", \"DEF\\n\"])\n",
    "    \n",
    "    archivo_escritura_abierto.close()\n",
    "except Exception as error:\n",
    "    print(\"Error\")"
   ]
  }
 ],
 "metadata": {
  "kernelspec": {
   "display_name": "Python 3",
   "language": "python",
   "name": "python3"
  },
  "language_info": {
   "codemirror_mode": {
    "name": "ipython",
    "version": 3
   },
   "file_extension": ".py",
   "mimetype": "text/x-python",
   "name": "python",
   "nbconvert_exporter": "python",
   "pygments_lexer": "ipython3",
   "version": "3.7.0"
  }
 },
 "nbformat": 4,
 "nbformat_minor": 2
}
