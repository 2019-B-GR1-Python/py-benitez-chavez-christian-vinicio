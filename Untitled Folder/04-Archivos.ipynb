{
 "cells": [
  {
   "cell_type": "code",
   "execution_count": 7,
   "metadata": {},
   "outputs": [
    {
     "name": "stdout",
     "output_type": "stream",
     "text": [
      "L1: hdg dfhfs hsgh sf gdh agsfdgdf f dsf gsg d  ag dfsgsd hg jdgh jgsb fdg\n",
      "\n",
      "<class 'str'>\n",
      "['sfs\\n', 'ddg\\n', 'fdgsfsdgsd\\n', 'ggdfgsdfgsg fgdf gdsfgdfs dff gsf g gfs gdsdf f']\n",
      "<class 'list'>\n",
      "sfs\n",
      "\n",
      "ddg\n",
      "\n",
      "fdgsfsdgsd\n",
      "\n",
      "ggdfgsdfgsg fgdf gdsfgdfs dff gsf g gfs gdsdf f\n"
     ]
    }
   ],
   "source": [
    "#Archivos\n",
    "\n",
    "try:\n",
    "    path = \"./frases.txt\"\n",
    "    archivo_abierto = open(path)\n",
    "    #Una sola linea\n",
    "    linea_uno = archivo_abierto.readline()\n",
    "    print (f\"L1: {linea_uno}\")\n",
    "    print(type(linea_uno))\n",
    "    \n",
    "    #Varias lineas \n",
    "    contenido = archivo_abierto.readlines()\n",
    "    print(contenido)\n",
    "    print(type(contenido))\n",
    "    \n",
    "    for linea in contenido:\n",
    "        print(linea)\n",
    "    \n",
    "  \n",
    "   \n",
    "    \n",
    "    archivo_abierto.close()\n",
    "    \n",
    "    \n",
    "    \n",
    "except Exception as error:\n",
    "    print (\"Error\")"
   ]
  },
  {
   "cell_type": "code",
   "execution_count": 11,
   "metadata": {},
   "outputs": [],
   "source": [
    "#Escribir archivos\n",
    "#Añadir lineas y sobreescribir archivos\n",
    "try:\n",
    "    path = './frases.txt'\n",
    "    archivo_escritura_abierto = open(path, mode=\"a\")\n",
    "    #a=>append\n",
    "    #w=>write(sobreescribe)\n",
    "    \n",
    "    #Escribir una linea \n",
    "    archivo_escritura_abierto.write(\"Buenos dias\\n\")\n",
    "    #Escribir varias lineas\n",
    "    archivo_escritura_abierto.writelines([\"ABC\\n\", \"DEF\\n\"])\n",
    "    \n",
    "    archivo_escritura_abierto.close()\n",
    "except Exception as error:\n",
    "    print(\"Error\")"
   ]
  }
 ],
 "metadata": {
  "kernelspec": {
   "display_name": "Python 3",
   "language": "python",
   "name": "python3"
  },
  "language_info": {
   "codemirror_mode": {
    "name": "ipython",
    "version": 3
   },
   "file_extension": ".py",
   "mimetype": "text/x-python",
   "name": "python",
   "nbconvert_exporter": "python",
   "pygments_lexer": "ipython3",
   "version": "3.7.0"
  }
 },
 "nbformat": 4,
 "nbformat_minor": 2
}
